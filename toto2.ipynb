{
  "nbformat": 4,
  "nbformat_minor": 0,
  "metadata": {
    "colab": {
      "name": "toto2.ipynb",
      "provenance": [],
      "collapsed_sections": [],
      "authorship_tag": "ABX9TyPQAEkHDO+yIg4eLn6StXWe",
      "include_colab_link": true
    },
    "kernelspec": {
      "name": "python3",
      "display_name": "Python 3"
    },
    "language_info": {
      "name": "python"
    }
  },
  "cells": [
    {
      "cell_type": "markdown",
      "metadata": {
        "id": "view-in-github",
        "colab_type": "text"
      },
      "source": [
        "<a href=\"https://colab.research.google.com/github/nkoichev/toto/blob/main/toto2.ipynb\" target=\"_parent\"><img src=\"https://colab.research.google.com/assets/colab-badge.svg\" alt=\"Open In Colab\"/></a>"
      ]
    },
    {
      "cell_type": "code",
      "execution_count": 9,
      "metadata": {
        "id": "ujmtJzC9howI"
      },
      "outputs": [],
      "source": [
        "slider_value = 5  #@param {type: \"slider\", min:2, max: 5}"
      ]
    },
    {
      "cell_type": "code",
      "source": [
        "import random\n",
        "\n",
        "my_list = [1, 2, 3, 4, 5, 6]\n",
        "# my_li = list(input('enter 6 numbers: ').split(','))\n",
        "# my_list = [int(i) for i in my_li]\n",
        "\n",
        "\n",
        "winners = []\n",
        "counter = 1\n",
        "random_list = []\n",
        "\n",
        "\n",
        "def winners_func(x, y, z):\n",
        "    for i in x:\n",
        "        if i in y:\n",
        "            if i not in z:\n",
        "                z.append(i)\n",
        "    print(winners)\n",
        "\n",
        "\n",
        "def rndm_func():\n",
        "    while len(random_list) < 6:\n",
        "        rndm = random.choice(range(1, 50))\n",
        "\n",
        "        if rndm not in random_list:\n",
        "            random_list.append(rndm)\n",
        "    print('--------------------------')\n",
        "    print(random_list)\n",
        "    print(f'counter: {counter}')\n",
        "    print('--------------------------')\n",
        "\n",
        "target = slider_value\n",
        "\n",
        "while True:\n",
        "    rndm_func()\n",
        "    counter += 1\n",
        "    winners_func(my_list, random_list, winners)\n",
        "\n",
        "    if len(winners) < target:\n",
        "\n",
        "        random_list.clear()\n",
        "        winners.clear()\n",
        "\n",
        "    else:\n",
        "        break\n",
        "\n",
        "print('==========================')\n",
        "print(f'Имате съвпадение на {target} числа {winners} в този тираж: {random_list}')\n",
        "print(\"   \")\n",
        "print(f'Брой на тиражите: {counter}')\n",
        "print(f'Брой месеци {int(round(counter/4,0))}')\n",
        "print(f'Брой години: {int(round(counter/4/12,0))}')"
      ],
      "metadata": {
        "id": "49f-ZUDUhvZH"
      },
      "execution_count": null,
      "outputs": []
    },
    {
      "cell_type": "code",
      "source": [
        ""
      ],
      "metadata": {
        "id": "Eo8DGQ1vjHzT"
      },
      "execution_count": 10,
      "outputs": []
    }
  ]
}